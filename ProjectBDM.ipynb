{
 "cells": [
  {
   "cell_type": "code",
   "execution_count": 1,
   "metadata": {},
   "outputs": [],
   "source": [
    "from pyspark import SparkContext\n",
    "sc = SparkContext()\n",
    "from pyspark.sql.types import BooleanType\n",
    "from pyspark.sql.session import SparkSession\n",
    "import sys\n",
    "spark = SparkSession(sc)"
   ]
  },
  {
   "cell_type": "code",
   "execution_count": 2,
   "metadata": {},
   "outputs": [],
   "source": [
    "import pyspark.sql.functions as funct"
   ]
  },
  {
   "cell_type": "code",
   "execution_count": 3,
   "metadata": {},
   "outputs": [],
   "source": [
    "# taxi = sc.textFile('small_data1.csv')\n",
    "# list(enumerate(taxi.first().split(',')))\n"
   ]
  },
  {
   "cell_type": "code",
   "execution_count": 4,
   "metadata": {},
   "outputs": [],
   "source": [
    "# city = sc.textFile('centerline (1).csv')\n",
    "# list(enumerate(city.first().split(',')))"
   ]
  },
  {
   "cell_type": "code",
   "execution_count": null,
   "metadata": {},
   "outputs": [],
   "source": []
  },
  {
   "cell_type": "code",
   "execution_count": 5,
   "metadata": {},
   "outputs": [],
   "source": [
    "#b = spark.read.load('centerline (1).csv', format='csv', header = True, inferSchema = True)\n",
    "#b.head(10)"
   ]
  },
  {
   "cell_type": "code",
   "execution_count": 6,
   "metadata": {},
   "outputs": [
    {
     "data": {
      "text/plain": [
       "[Row(NEW L_LOW_HN='', NEW L_HIGH_HN='', NEW R_LOW_HN='', NEW R_HIGH_HN='', FULL_STREE='MITSUBISHI WILD WETLAND TRL', ST_LABEL='MITSUBISHI WILD WETLAND TRL', BOROCODE=2, PHYSICALID=164809),\n",
       " Row(NEW L_LOW_HN='215.001', NEW L_HIGH_HN='215.027', NEW R_LOW_HN='215.000', NEW R_HIGH_HN='215.026', FULL_STREE='28 AVE', ST_LABEL='28 AV', BOROCODE=4, PHYSICALID=6110),\n",
       " Row(NEW L_LOW_HN='317', NEW L_HIGH_HN='399', NEW R_LOW_HN='316', NEW R_HIGH_HN='360', FULL_STREE='SCHERMERHORN ST', ST_LABEL='SCHERMERHORN ST', BOROCODE=3, PHYSICALID=145494),\n",
       " Row(NEW L_LOW_HN='5631', NEW L_HIGH_HN='5699', NEW R_LOW_HN='5602', NEW R_HIGH_HN='5698', FULL_STREE='ARLINGTON AVE', ST_LABEL='ARLINGTON AV', BOROCODE=2, PHYSICALID=61140),\n",
       " Row(NEW L_LOW_HN='120.011', NEW L_HIGH_HN='120.011', NEW R_LOW_HN='0', NEW R_HIGH_HN='0', FULL_STREE='QUEENS BLVD', ST_LABEL='QUEENS BLVD', BOROCODE=4, PHYSICALID=12438),\n",
       " Row(NEW L_LOW_HN='528', NEW L_HIGH_HN='554', NEW R_LOW_HN='555', NEW R_HIGH_HN='555', FULL_STREE='ARTHUR KIL RD', ST_LABEL='ARTHUR KILL RD', BOROCODE=5, PHYSICALID=15432),\n",
       " Row(NEW L_LOW_HN='731', NEW L_HIGH_HN='759', NEW R_LOW_HN='730', NEW R_HIGH_HN='758', FULL_STREE='E  181 ST', ST_LABEL='E 181 ST', BOROCODE=2, PHYSICALID=52620),\n",
       " Row(NEW L_LOW_HN='51.001', NEW L_HIGH_HN='51.099', NEW R_LOW_HN='51.000', NEW R_HIGH_HN='51.098', FULL_STREE='58 LN', ST_LABEL='58 LA', BOROCODE=4, PHYSICALID=83272),\n",
       " Row(NEW L_LOW_HN='68.049', NEW L_HIGH_HN='68.099', NEW R_LOW_HN='68.050', NEW R_HIGH_HN='68.098', FULL_STREE='FOREST AVE', ST_LABEL='FOREST AV', BOROCODE=4, PHYSICALID=26405),\n",
       " Row(NEW L_LOW_HN='0', NEW L_HIGH_HN='0', NEW R_LOW_HN='15', NEW R_HIGH_HN='15', FULL_STREE='TIDES LN', ST_LABEL='TIDES LA', BOROCODE=5, PHYSICALID=95944),\n",
       " Row(NEW L_LOW_HN='', NEW L_HIGH_HN='', NEW R_LOW_HN='', NEW R_HIGH_HN='', FULL_STREE=\"MARTHA'S VYD-HIGHLANDS FERRY RTE\", ST_LABEL='HIGHLANDS-MARTHAS VYD FERRY RTE', BOROCODE=2, PHYSICALID=178314),\n",
       " Row(NEW L_LOW_HN='', NEW L_HIGH_HN='', NEW R_LOW_HN='', NEW R_HIGH_HN='', FULL_STREE='CYPRESS CREST LN', ST_LABEL='CYPRESS CREST LA', BOROCODE=5, PHYSICALID=94775),\n",
       " Row(NEW L_LOW_HN='67', NEW L_HIGH_HN='131', NEW R_LOW_HN='72', NEW R_HIGH_HN='134', FULL_STREE='WALWORTH ST', ST_LABEL='WALWORTH ST', BOROCODE=3, PHYSICALID=47311),\n",
       " Row(NEW L_LOW_HN='701', NEW L_HIGH_HN='799', NEW R_LOW_HN='700', NEW R_HIGH_HN='798', FULL_STREE='58 ST', ST_LABEL='58 ST', BOROCODE=3, PHYSICALID=42619),\n",
       " Row(NEW L_LOW_HN='1357', NEW L_HIGH_HN='1399', NEW R_LOW_HN='1358', NEW R_HIGH_HN='1364', FULL_STREE='HERSCHELL ST', ST_LABEL='HERSCHELL ST', BOROCODE=2, PHYSICALID=61335),\n",
       " Row(NEW L_LOW_HN='43', NEW L_HIGH_HN='69', NEW R_LOW_HN='44', NEW R_HIGH_HN='60', FULL_STREE='PRESIDENT ST', ST_LABEL='PRESIDENT ST', BOROCODE=5, PHYSICALID=94303),\n",
       " Row(NEW L_LOW_HN='', NEW L_HIGH_HN='', NEW R_LOW_HN='', NEW R_HIGH_HN='', FULL_STREE='DRIVEWAY', ST_LABEL='DRIVEWAY', BOROCODE=1, PHYSICALID=170875),\n",
       " Row(NEW L_LOW_HN='1431', NEW L_HIGH_HN='1499', NEW R_LOW_HN='0', NEW R_HIGH_HN='0', FULL_STREE='FULTON AVE', ST_LABEL='FULTON AV', BOROCODE=2, PHYSICALID=35332),\n",
       " Row(NEW L_LOW_HN='601', NEW L_HIGH_HN='699', NEW R_LOW_HN='600', NEW R_HIGH_HN='698', FULL_STREE='I AVE', ST_LABEL='AV I', BOROCODE=3, PHYSICALID=43450),\n",
       " Row(NEW L_LOW_HN='0', NEW L_HIGH_HN='0', NEW R_LOW_HN='107.012', NEW R_HIGH_HN='107.016', FULL_STREE='178 ST', ST_LABEL='178 ST', BOROCODE=4, PHYSICALID=103751),\n",
       " Row(NEW L_LOW_HN='2', NEW L_HIGH_HN='64', NEW R_LOW_HN='1', NEW R_HIGH_HN='59', FULL_STREE='BENNETT AVE', ST_LABEL='BENNETT AV', BOROCODE=1, PHYSICALID=183608),\n",
       " Row(NEW L_LOW_HN='2', NEW L_HIGH_HN='60', NEW R_LOW_HN='1', NEW R_HIGH_HN='57', FULL_STREE='SILVER CT', ST_LABEL='SILVER CT', BOROCODE=5, PHYSICALID=96186),\n",
       " Row(NEW L_LOW_HN='313', NEW L_HIGH_HN='335', NEW R_LOW_HN='314', NEW R_HIGH_HN='336', FULL_STREE='AVE W', ST_LABEL='AV W', BOROCODE=3, PHYSICALID=39179),\n",
       " Row(NEW L_LOW_HN='', NEW L_HIGH_HN='', NEW R_LOW_HN='', NEW R_HIGH_HN='', FULL_STREE='NORTHERN BL  E', ST_LABEL='NORTHERN BLVD', BOROCODE=4, PHYSICALID=9677),\n",
       " Row(NEW L_LOW_HN='1501', NEW L_HIGH_HN='1511', NEW R_LOW_HN='1500', NEW R_HIGH_HN='1512', FULL_STREE='AVE N', ST_LABEL='AV N', BOROCODE=3, PHYSICALID=46804),\n",
       " Row(NEW L_LOW_HN='110.001', NEW L_HIGH_HN='111.099', NEW R_LOW_HN='110.000', NEW R_HIGH_HN='111.098', FULL_STREE='69 AVE', ST_LABEL='69 AV', BOROCODE=4, PHYSICALID=14013),\n",
       " Row(NEW L_LOW_HN='', NEW L_HIGH_HN='', NEW R_LOW_HN='', NEW R_HIGH_HN='', FULL_STREE='ROOSEVELT IS BR PED & BIKE PATH', ST_LABEL='ROOSEVELT IS BR PED & BIKE PATH', BOROCODE=4, PHYSICALID=146179),\n",
       " Row(NEW L_LOW_HN='455', NEW L_HIGH_HN='467', NEW R_LOW_HN='462', NEW R_HIGH_HN='478', FULL_STREE='TOMPKINS AVE', ST_LABEL='TOMPKINS AV', BOROCODE=5, PHYSICALID=54216),\n",
       " Row(NEW L_LOW_HN='2153', NEW L_HIGH_HN='2175', NEW R_LOW_HN='2154', NEW R_HIGH_HN='2176', FULL_STREE='PITKIN AVE', ST_LABEL='PITKIN AV', BOROCODE=3, PHYSICALID=70669),\n",
       " Row(NEW L_LOW_HN='', NEW L_HIGH_HN='', NEW R_LOW_HN='', NEW R_HIGH_HN='', FULL_STREE='MARCY HOUSES PEDESTRIAN PATH', ST_LABEL='MARCY HOUSES PEDESTRIAN PATH', BOROCODE=3, PHYSICALID=151483),\n",
       " Row(NEW L_LOW_HN='107.001', NEW L_HIGH_HN='108.099', NEW R_LOW_HN='107.000', NEW R_HIGH_HN='108.098', FULL_STREE='105 ST', ST_LABEL='105 ST', BOROCODE=4, PHYSICALID=93463),\n",
       " Row(NEW L_LOW_HN='2101', NEW L_HIGH_HN='2199', NEW R_LOW_HN='2100', NEW R_HIGH_HN='2198', FULL_STREE='BRAGG ST', ST_LABEL='BRAGG ST', BOROCODE=3, PHYSICALID=48348),\n",
       " Row(NEW L_LOW_HN='2301', NEW L_HIGH_HN='2329', NEW R_LOW_HN='0', NEW R_HIGH_HN='0', FULL_STREE='CROPSEY AVE', ST_LABEL='CROPSEY AVE', BOROCODE=3, PHYSICALID=42533),\n",
       " Row(NEW L_LOW_HN='1501', NEW L_HIGH_HN='1549', NEW R_LOW_HN='1500', NEW R_HIGH_HN='1548', FULL_STREE='ALLERTON AVE', ST_LABEL='ALLERTON AV', BOROCODE=2, PHYSICALID=42052),\n",
       " Row(NEW L_LOW_HN='', NEW L_HIGH_HN='', NEW R_LOW_HN='', NEW R_HIGH_HN='', FULL_STREE='CIP SB EXIT 25 B', ST_LABEL='CROSS ISLAND PKWY ET 25 B SB', BOROCODE=4, PHYSICALID=99066),\n",
       " Row(NEW L_LOW_HN='', NEW L_HIGH_HN='', NEW R_LOW_HN='', NEW R_HIGH_HN='', FULL_STREE='56 ST', ST_LABEL='56 ST', BOROCODE=3, PHYSICALID=37037),\n",
       " Row(NEW L_LOW_HN='7', NEW L_HIGH_HN='7', NEW R_LOW_HN='10', NEW R_HIGH_HN='8', FULL_STREE='ZOO PATH', ST_LABEL='ZOO PATH', BOROCODE=4, PHYSICALID=177355),\n",
       " Row(NEW L_LOW_HN='', NEW L_HIGH_HN='', NEW R_LOW_HN='', NEW R_HIGH_HN='', FULL_STREE='ALLEY', ST_LABEL='ALLEY', BOROCODE=3, PHYSICALID=106928),\n",
       " Row(NEW L_LOW_HN='3615', NEW L_HIGH_HN='3649', NEW R_LOW_HN='3618', NEW R_HIGH_HN='3624', FULL_STREE='EASTCHESTR RD', ST_LABEL='EASTCHESTER RD', BOROCODE=2, PHYSICALID=54462),\n",
       " Row(NEW L_LOW_HN='', NEW L_HIGH_HN='', NEW R_LOW_HN='', NEW R_HIGH_HN='', FULL_STREE='N Y 9 A', ST_LABEL='HENRY HUDSON PKWY', BOROCODE=2, PHYSICALID=39974),\n",
       " Row(NEW L_LOW_HN='14.025', NEW L_HIGH_HN='14.099', NEW R_LOW_HN='14.024', NEW R_HIGH_HN='14.098', FULL_STREE='BEACON PL', ST_LABEL='BEACON PL', BOROCODE=4, PHYSICALID=99733),\n",
       " Row(NEW L_LOW_HN='341', NEW L_HIGH_HN='391', NEW R_LOW_HN='354', NEW R_HIGH_HN='374', FULL_STREE='WILLIS AVE', ST_LABEL='WILLIS AV', BOROCODE=2, PHYSICALID=62180),\n",
       " Row(NEW L_LOW_HN='283', NEW L_HIGH_HN='305', NEW R_LOW_HN='284', NEW R_HIGH_HN='306', FULL_STREE='KINGSHIGWY', ST_LABEL='KINGS HWY', BOROCODE=3, PHYSICALID=47741),\n",
       " Row(NEW L_LOW_HN='23', NEW L_HIGH_HN='99', NEW R_LOW_HN='40', NEW R_HIGH_HN='98', FULL_STREE='ALBRIGHT ST', ST_LABEL='ALBRIGHT ST', BOROCODE=5, PHYSICALID=98286),\n",
       " Row(NEW L_LOW_HN='1', NEW L_HIGH_HN='85', NEW R_LOW_HN='2', NEW R_HIGH_HN='84', FULL_STREE='E  96 ST', ST_LABEL='E 96 ST', BOROCODE=3, PHYSICALID=72950),\n",
       " Row(NEW L_LOW_HN='419', NEW L_HIGH_HN='449', NEW R_LOW_HN='422', NEW R_HIGH_HN='446', FULL_STREE='MANOR RD', ST_LABEL='MANOR RD', BOROCODE=5, PHYSICALID=34919),\n",
       " Row(NEW L_LOW_HN='108.001', NEW L_HIGH_HN='110.099', NEW R_LOW_HN='108.000', NEW R_HIGH_HN='110.098', FULL_STREE='49 AVE', ST_LABEL='49 AV', BOROCODE=4, PHYSICALID=96460),\n",
       " Row(NEW L_LOW_HN='0', NEW L_HIGH_HN='0', NEW R_LOW_HN='68.000', NEW R_HIGH_HN='68.098', FULL_STREE='UTOPIA PKWY', ST_LABEL='UTOPIA PKWY', BOROCODE=4, PHYSICALID=31044),\n",
       " Row(NEW L_LOW_HN='749', NEW L_HIGH_HN='775', NEW R_LOW_HN='746', NEW R_HIGH_HN='774', FULL_STREE='E  150 ST', ST_LABEL='E 150 ST', BOROCODE=2, PHYSICALID=35893),\n",
       " Row(NEW L_LOW_HN='6.001', NEW L_HIGH_HN='6.099', NEW R_LOW_HN='6.000', NEW R_HIGH_HN='6.098', FULL_STREE='126 ST', ST_LABEL='126 ST', BOROCODE=4, PHYSICALID=34113),\n",
       " Row(NEW L_LOW_HN='601', NEW L_HIGH_HN='699', NEW R_LOW_HN='600', NEW R_HIGH_HN='698', FULL_STREE='B 66 ST', ST_LABEL='BEACH 66 ST', BOROCODE=4, PHYSICALID=92035),\n",
       " Row(NEW L_LOW_HN='', NEW L_HIGH_HN='', NEW R_LOW_HN='', NEW R_HIGH_HN='', FULL_STREE='MORRIS I HOUSES PEDESTRIAN PATH', ST_LABEL='MORRIS I HOUSES PEDESTRIAN PATH', BOROCODE=2, PHYSICALID=151290),\n",
       " Row(NEW L_LOW_HN='95.001', NEW L_HIGH_HN='95.099', NEW R_LOW_HN='95.000', NEW R_HIGH_HN='95.098', FULL_STREE='65 RD', ST_LABEL='65 RD', BOROCODE=4, PHYSICALID=33679),\n",
       " Row(NEW L_LOW_HN='38.001', NEW L_HIGH_HN='38.099', NEW R_LOW_HN='38.000', NEW R_HIGH_HN='38.098', FULL_STREE='222 ST', ST_LABEL='222 ST', BOROCODE=4, PHYSICALID=18531),\n",
       " Row(NEW L_LOW_HN='', NEW L_HIGH_HN='', NEW R_LOW_HN='', NEW R_HIGH_HN='', FULL_STREE='MILL BROOK HOUSES PEDESTRIAN PTH', ST_LABEL='MILL BROOK HOUSES PEDESTRIAN PTH', BOROCODE=2, PHYSICALID=151197),\n",
       " Row(NEW L_LOW_HN='2001', NEW L_HIGH_HN='2099', NEW R_LOW_HN='2000', NEW R_HIGH_HN='2098', FULL_STREE='GLEASON AVE', ST_LABEL='GLEASON AV', BOROCODE=2, PHYSICALID=50660),\n",
       " Row(NEW L_LOW_HN='32.001', NEW L_HIGH_HN='32.099', NEW R_LOW_HN='32.000', NEW R_HIGH_HN='32.098', FULL_STREE='81 ST', ST_LABEL='81 ST', BOROCODE=4, PHYSICALID=71023),\n",
       " Row(NEW L_LOW_HN='31.001', NEW L_HIGH_HN='31.025', NEW R_LOW_HN='31.000', NEW R_HIGH_HN='31.026', FULL_STREE=\"HUNTER'S POINT AVE\", ST_LABEL='HUNTERS PT AV', BOROCODE=4, PHYSICALID=11696),\n",
       " Row(NEW L_LOW_HN='4101', NEW L_HIGH_HN='4199', NEW R_LOW_HN='4100', NEW R_HIGH_HN='4198', FULL_STREE='P AVE', ST_LABEL='AV P', BOROCODE=3, PHYSICALID=48721),\n",
       " Row(NEW L_LOW_HN='0', NEW L_HIGH_HN='0', NEW R_LOW_HN='444', NEW R_HIGH_HN='450', FULL_STREE='TIMPSON PL', ST_LABEL='TIMPSON PL', BOROCODE=2, PHYSICALID=75330),\n",
       " Row(NEW L_LOW_HN='54.001', NEW L_HIGH_HN='56.099', NEW R_LOW_HN='54.000', NEW R_HIGH_HN='56.098', FULL_STREE='74 ST', ST_LABEL='74 ST', BOROCODE=4, PHYSICALID=32650),\n",
       " Row(NEW L_LOW_HN='517', NEW L_HIGH_HN='529', NEW R_LOW_HN='518', NEW R_HIGH_HN='528', FULL_STREE='E  171 ST', ST_LABEL='E 171 ST', BOROCODE=2, PHYSICALID=151330),\n",
       " Row(NEW L_LOW_HN='63', NEW L_HIGH_HN='69', NEW R_LOW_HN='62', NEW R_HIGH_HN='68', FULL_STREE='STONE ST', ST_LABEL='STONE ST', BOROCODE=1, PHYSICALID=488),\n",
       " Row(NEW L_LOW_HN='150', NEW L_HIGH_HN='186', NEW R_LOW_HN='143', NEW R_HIGH_HN='199', FULL_STREE='VAN CORTLANDT AVE', ST_LABEL='VAN CORTLANDT AV', BOROCODE=5, PHYSICALID=85847),\n",
       " Row(NEW L_LOW_HN='1', NEW L_HIGH_HN='23', NEW R_LOW_HN='12', NEW R_HIGH_HN='24', FULL_STREE='SUNSET HILL DR', ST_LABEL='SUNSET HILL DR', BOROCODE=5, PHYSICALID=63095),\n",
       " Row(NEW L_LOW_HN='', NEW L_HIGH_HN='', NEW R_LOW_HN='', NEW R_HIGH_HN='', FULL_STREE='WELL HOUSE DR', ST_LABEL='WELLHOUSE DR', BOROCODE=3, PHYSICALID=184097),\n",
       " Row(NEW L_LOW_HN='170.023', NEW L_HIGH_HN='170.045', NEW R_LOW_HN='170.022', NEW R_HIGH_HN='170.044', FULL_STREE='LITHONIA AVE', ST_LABEL='LITHONIA AV', BOROCODE=4, PHYSICALID=82753),\n",
       " Row(NEW L_LOW_HN='17', NEW L_HIGH_HN='25', NEW R_LOW_HN='18', NEW R_HIGH_HN='24', FULL_STREE='GOLD ST', ST_LABEL='GOLD ST', BOROCODE=1, PHYSICALID=79723),\n",
       " Row(NEW L_LOW_HN='', NEW L_HIGH_HN='', NEW R_LOW_HN='', NEW R_HIGH_HN='', FULL_STREE='HARMONY LN', ST_LABEL='HARMONY ROAD', BOROCODE=4, PHYSICALID=181749),\n",
       " Row(NEW L_LOW_HN='0', NEW L_HIGH_HN='0', NEW R_LOW_HN='144', NEW R_HIGH_HN='178', FULL_STREE='E  167 ST', ST_LABEL='E 167 ST', BOROCODE=2, PHYSICALID=61071),\n",
       " Row(NEW L_LOW_HN='941', NEW L_HIGH_HN='979', NEW R_LOW_HN='940', NEW R_HIGH_HN='978', FULL_STREE='WHITTIER ST', ST_LABEL='WHITTIER ST', BOROCODE=2, PHYSICALID=50899),\n",
       " Row(NEW L_LOW_HN='8901', NEW L_HIGH_HN='8999', NEW R_LOW_HN='8900', NEW R_HIGH_HN='8998', FULL_STREE='AVE J', ST_LABEL='AV J', BOROCODE=3, PHYSICALID=72039),\n",
       " Row(NEW L_LOW_HN='0', NEW L_HIGH_HN='0', NEW R_LOW_HN='1148', NEW R_HIGH_HN='1174', FULL_STREE='METROPOLITAN AVE', ST_LABEL='METROPOLITAN AV', BOROCODE=3, PHYSICALID=89083),\n",
       " Row(NEW L_LOW_HN='', NEW L_HIGH_HN='', NEW R_LOW_HN='', NEW R_HIGH_HN='', FULL_STREE='ALLEY', ST_LABEL='ALLEY', BOROCODE=4, PHYSICALID=107585),\n",
       " Row(NEW L_LOW_HN='', NEW L_HIGH_HN='', NEW R_LOW_HN='', NEW R_HIGH_HN='', FULL_STREE='POPHAM AVE', ST_LABEL='POPHAM AV', BOROCODE=2, PHYSICALID=151836),\n",
       " Row(NEW L_LOW_HN='42.001', NEW L_HIGH_HN='42.099', NEW R_LOW_HN='42.000', NEW R_HIGH_HN='42.098', FULL_STREE='33 ST', ST_LABEL='33 ST', BOROCODE=4, PHYSICALID=26398),\n",
       " Row(NEW L_LOW_HN='0', NEW L_HIGH_HN='0', NEW R_LOW_HN='701', NEW R_HIGH_HN='709', FULL_STREE='CROSS BAY BLVD', ST_LABEL='CROSS BAY BLVD', BOROCODE=4, PHYSICALID=73335),\n",
       " Row(NEW L_LOW_HN='', NEW L_HIGH_HN='', NEW R_LOW_HN='', NEW R_HIGH_HN='', FULL_STREE='MILL RIVER RD', ST_LABEL='MILL RIVER RD', BOROCODE=2, PHYSICALID=105679),\n",
       " Row(NEW L_LOW_HN='', NEW L_HIGH_HN='', NEW R_LOW_HN='', NEW R_HIGH_HN='', FULL_STREE='WASHINGTON BRG', ST_LABEL='WASHINGTON BR', BOROCODE=2, PHYSICALID=174034),\n",
       " Row(NEW L_LOW_HN='', NEW L_HIGH_HN='', NEW R_LOW_HN='', NEW R_HIGH_HN='', FULL_STREE='B Q E', ST_LABEL='BQE', BOROCODE=4, PHYSICALID=155363),\n",
       " Row(NEW L_LOW_HN='2', NEW L_HIGH_HN='34', NEW R_LOW_HN='1', NEW R_HIGH_HN='35', FULL_STREE='THORNY CROFT AVE', ST_LABEL='THORNYCROFT AV', BOROCODE=5, PHYSICALID=56796),\n",
       " Row(NEW L_LOW_HN='49.001', NEW L_HIGH_HN='49.099', NEW R_LOW_HN='49.000', NEW R_HIGH_HN='49.098', FULL_STREE='NEWTOWN RD', ST_LABEL='NEWTOWN RD', BOROCODE=4, PHYSICALID=21512),\n",
       " Row(NEW L_LOW_HN='199', NEW L_HIGH_HN='245', NEW R_LOW_HN='200', NEW R_HIGH_HN='246', FULL_STREE='WILLIAMS AVE', ST_LABEL='WILLIAMS AV', BOROCODE=3, PHYSICALID=75518),\n",
       " Row(NEW L_LOW_HN='', NEW L_HIGH_HN='', NEW R_LOW_HN='', NEW R_HIGH_HN='', FULL_STREE='ALLEY', ST_LABEL='ALLEY', BOROCODE=3, PHYSICALID=107861),\n",
       " Row(NEW L_LOW_HN='115.001', NEW L_HIGH_HN='115.099', NEW R_LOW_HN='115.000', NEW R_HIGH_HN='115.098', FULL_STREE='148 ST', ST_LABEL='148 ST', BOROCODE=4, PHYSICALID=82534),\n",
       " Row(NEW L_LOW_HN='83.001', NEW L_HIGH_HN='83.099', NEW R_LOW_HN='83.020', NEW R_HIGH_HN='83.098', FULL_STREE='58 AVE', ST_LABEL='58 AV', BOROCODE=4, PHYSICALID=31722),\n",
       " Row(NEW L_LOW_HN='', NEW L_HIGH_HN='', NEW R_LOW_HN='', NEW R_HIGH_HN='', FULL_STREE='KINGSBORO PSYCHIATRIC CTR DVWY', ST_LABEL='KINGSBORO PSYCHIATRIC CTR DVWY', BOROCODE=3, PHYSICALID=180050),\n",
       " Row(NEW L_LOW_HN='', NEW L_HIGH_HN='', NEW R_LOW_HN='', NEW R_HIGH_HN='', FULL_STREE='PULASKI BR BIKE PATH', ST_LABEL='PULASKI BRIDGE BIKE PATH', BOROCODE=3, PHYSICALID=187991),\n",
       " Row(NEW L_LOW_HN='', NEW L_HIGH_HN='', NEW R_LOW_HN='', NEW R_HIGH_HN='', FULL_STREE='MAJOR DEEGAN EXPRESS', ST_LABEL='MAJOR DEEGAN EXWY', BOROCODE=2, PHYSICALID=50684),\n",
       " Row(NEW L_LOW_HN='230', NEW L_HIGH_HN='248', NEW R_LOW_HN='231', NEW R_HIGH_HN='259', FULL_STREE='PLATT ST', ST_LABEL='PLATT ST', BOROCODE=5, PHYSICALID=59086),\n",
       " Row(NEW L_LOW_HN='11.001', NEW L_HIGH_HN='11.009', NEW R_LOW_HN='0', NEW R_HIGH_HN='0', FULL_STREE='50 AVE', ST_LABEL='50 AV', BOROCODE=4, PHYSICALID=7962),\n",
       " Row(NEW L_LOW_HN='1301', NEW L_HIGH_HN='1359', NEW R_LOW_HN='1300', NEW R_HIGH_HN='1378', FULL_STREE='TAYLOR AVE', ST_LABEL='TAYLOR AV', BOROCODE=2, PHYSICALID=50539),\n",
       " Row(NEW L_LOW_HN='67.027', NEW L_HIGH_HN='67.049', NEW R_LOW_HN='67.028', NEW R_HIGH_HN='67.048', FULL_STREE='108 ST', ST_LABEL='108 ST', BOROCODE=4, PHYSICALID=13840),\n",
       " Row(NEW L_LOW_HN='401', NEW L_HIGH_HN='429', NEW R_LOW_HN='400', NEW R_HIGH_HN='434', FULL_STREE='OAK AVE', ST_LABEL='OAK AV', BOROCODE=5, PHYSICALID=84583),\n",
       " Row(NEW L_LOW_HN='97', NEW L_HIGH_HN='159', NEW R_LOW_HN='98', NEW R_HIGH_HN='160', FULL_STREE='WOODBINE ST', ST_LABEL='WOODBINE ST', BOROCODE=3, PHYSICALID=72929),\n",
       " Row(NEW L_LOW_HN='1473', NEW L_HIGH_HN='1499', NEW R_LOW_HN='1464', NEW R_HIGH_HN='1498', FULL_STREE='JEROME AVE', ST_LABEL='JEROME AV', BOROCODE=2, PHYSICALID=35367),\n",
       " Row(NEW L_LOW_HN='1', NEW L_HIGH_HN='7', NEW R_LOW_HN='10', NEW R_HIGH_HN='8', FULL_STREE='E  109 ST', ST_LABEL='E 109 ST', BOROCODE=1, PHYSICALID=179568),\n",
       " Row(NEW L_LOW_HN='102.051', NEW L_HIGH_HN='102.099', NEW R_LOW_HN='102.050', NEW R_HIGH_HN='102.098', FULL_STREE='31 AVE', ST_LABEL='31 AV', BOROCODE=4, PHYSICALID=9063),\n",
       " Row(NEW L_LOW_HN='14.001', NEW L_HIGH_HN='14.071', NEW R_LOW_HN='14.000', NEW R_HIGH_HN='14.070', FULL_STREE='156 ST', ST_LABEL='156 ST', BOROCODE=4, PHYSICALID=97577),\n",
       " Row(NEW L_LOW_HN='383', NEW L_HIGH_HN='401', NEW R_LOW_HN='380', NEW R_HIGH_HN='400', FULL_STREE='EIGHTH AVE', ST_LABEL='8 AV', BOROCODE=1, PHYSICALID=1121)]"
      ]
     },
     "execution_count": 6,
     "metadata": {},
     "output_type": "execute_result"
    }
   ],
   "source": [
    "#b= b.select('L_LOW_HN', 'L_HIGH_HN','FULL_STREE','ST_LABEL','BOROCODE','PHYSICALID')\n",
    "b = spark.read.load('centerline (1).csv', format='csv', header = True, inferSchema = True)\n",
    "b.head(10)\n",
    "b = b.withColumn('New L_LOW_HN',funct.concat_ws('.',funct.split(b['L_LOW_HN'],'-')))\n",
    "b = b.withColumn('New R_LOW_HN',funct.concat_ws('.',funct.split(b['R_LOW_HN'],'-')))\n",
    "b = b.withColumn('New L_HIGH_HN',funct.concat_ws('.',funct.split(b['L_HIGH_HN'],'-')))\n",
    "b = b.withColumn('New R_HIGH_HN',funct.concat_ws('.',funct.split(b['R_HIGH_HN'],'-')))\n",
    "#b.select('BOROCODE').distinct().show()\n",
    "b= b.select('NEW L_LOW_HN', 'NEW L_HIGH_HN','NEW R_LOW_HN','NEW R_HIGH_HN','FULL_STREE','ST_LABEL','BOROCODE','PHYSICALID')\n",
    "b.head(100)"
   ]
  },
  {
   "cell_type": "code",
   "execution_count": 7,
   "metadata": {},
   "outputs": [
    {
     "data": {
      "text/plain": [
       "[Row(Violation County='K', New House Number='142', Street Name='MACDOUNGH ST', Year='2015'),\n",
       " Row(Violation County='K', New House Number='331', Street Name='LEXINGTON AVE', Year='2015'),\n",
       " Row(Violation County='K', New House Number='1087', Street Name='FULTON ST', Year='2015'),\n",
       " Row(Violation County='K', New House Number='207', Street Name='MADISON ST', Year='2015'),\n",
       " Row(Violation County='K', New House Number='237', Street Name='MADISON ST', Year='2015'),\n",
       " Row(Violation County='K', New House Number='201', Street Name='HALSEY ST', Year='2015'),\n",
       " Row(Violation County='K', New House Number='201', Street Name='HALSEY ST', Year='2015'),\n",
       " Row(Violation County='K', New House Number='482', Street Name='TOMPKINS AVE', Year='2015'),\n",
       " Row(Violation County='K', New House Number='317', Street Name='LEXINGTON AVE', Year='2015'),\n",
       " Row(Violation County='K', New House Number='739', Street Name='DEKALB AVE', Year='2015')]"
      ]
     },
     "execution_count": 7,
     "metadata": {},
     "output_type": "execute_result"
    }
   ],
   "source": [
    "a = spark.read.load('small_data1.csv', format='csv', header = True, inferSchema = True)\n",
    "#a.head()\n",
    "a= a.withColumn('Year',funct.split(a['Issue Date'],'/').getItem(2))\n",
    "\n",
    "a = a.filter((a['Year']>='2015')| (a['Year']<='2019'))\n",
    "a = a.filter(a['House Number'].rlike('^[0-9]*\\-*[0-9]*$'))\n",
    "a = a.withColumn('New House Number',funct.concat_ws('.',funct.split(a['House Number'],'-')))\n",
    "a = a.select('Violation County','New House Number','Street Name','Year')\n",
    "a.head(10)\n"
   ]
  },
  {
   "cell_type": "code",
   "execution_count": 8,
   "metadata": {},
   "outputs": [],
   "source": [
    "#a.filter(a['House Number'] == '481A').show()\n"
   ]
  },
  {
   "cell_type": "code",
   "execution_count": 9,
   "metadata": {},
   "outputs": [],
   "source": [
    "#b=b.withColumn(\"2015\", funct.lit(0)).withColumn(\"2016\", funct.lit(0)).withColumn(\"2017\", funct.lit(0)).withColumn(\"2018\", funct.lit(0)).withColumn(\"2019\", funct.lit(0))\n",
    "#b.head(10)\n"
   ]
  },
  {
   "cell_type": "code",
   "execution_count": null,
   "metadata": {},
   "outputs": [],
   "source": []
  },
  {
   "cell_type": "code",
   "execution_count": 16,
   "metadata": {},
   "outputs": [],
   "source": [
    "def process(c,d,e,f,g,h,i,j,k,l,m,n):\n",
    "    a = [c,d,e,f]\n",
    "    b = [g,h,i,j,k,l,m,n]\n",
    "#     if a[0] == 'K':\n",
    "#         return True\n",
    "    boro= {3:['K','KINGS','KING','BK'],2:['BX','BRONX'],1:['NY','MAN','MH','NEW Y','NEWY','MN'],5:['R','RICHMOND'],4:['Q','QU','QUEEN','QN','QNS']}\n",
    "    if c in boro[m]:\n",
    "#         return True\n",
    "        if ((b[4]==a[2]) | (b[5] == a[2])):\n",
    "            return True\n",
    "#             if float(a[1])%2 == 0:\n",
    "#                 if ((float(b[3]) <= float(a[1]) ) & (float(b[2] )>= float(row[1]))):\n",
    "#                     return True\n",
    "#             else:\n",
    "#                 if ((float(b[1]) <= float(a[1]) ) & (float(b[0] )>= float(row[1]))):\n",
    "#                     return True\n",
    "    return False\n",
    "            \n",
    "# #                 return row\n",
    "# #                     b = b.withColumn(row[3], funct.when((b['BOROCODE'] == 3) & ((b['FULL_STREE']==row[2]) | \n",
    "# #                     #(b['ST_LABEL'] == row[2])) & ((b['R_HIGH_HN'] <= row[1]) & (b['R_LOW_HN'] >= row[1])), funct.col(row[3])+funct.lit(1)))\n",
    "#                     b.select('year')\n",
    "#     b = b.withColumn(b[row[3]], funct.when((b['BOROCODE'] ==3 ) & ((b['FULL_STREE']==row[2]) | (b['ST_LABEL'] == row[2])) , funct.col(b[row3])+funct.lit(1)))\n",
    "# #             return 0\n",
    "#                     return 0"
   ]
  },
  {
   "cell_type": "code",
   "execution_count": 17,
   "metadata": {},
   "outputs": [],
   "source": [
    "# #b.head(50)\n",
    "# print(type(a))\n",
    "# a= a.rdd.collect()\n",
    "# #     mapper(row)\n",
    "\n",
    "\n",
    "#from spark.sql.crossJoin.enabled \n",
    "# #a = a.map(lambda x: mapper(x))\n",
    "# print(type(a))\n",
    "# a= sc.parallelize(a)\n",
    "# #taxi.foreachRDD(lambda x:process(x))\n",
    "acol = a.columns\n",
    "bcol = b.columns\n",
    "p = funct.udf(process, BooleanType())\n",
    "#a.join(b, funct.udf(process, ([a[s] for s in acol], [b[s] for s in bcol])))\n",
    "#a.join(b, p([a[s] for s in acol], [b[s] for s in bcol]) )\n",
    "#v= a.join(b, on=[(a['Violation County'] == 'K')&(b['BOROCODE']== 3)])\n",
    "#v = a.join(b, p(a['Violation County'],a['New House Number'],a['Street Name'],a['Year'],b['NEW L_LOW_HN'], b['NEW L_HIGH_HN'],b['NEW R_LOW_HN'],b['NEW R_HIGH_HN'], b['FULL_STREE'],b['ST_LABEL'],b['BOROCODE'],b['PHYSICALID']) )\n",
    "#v.show()\n",
    "v = a.crossJoin(b).where(p(a['Violation County'],a['New House Number'],a['Street Name'],a['Year'],b['NEW L_LOW_HN'], b['NEW L_HIGH_HN'],b['NEW R_LOW_HN'],b['NEW R_HIGH_HN'], b['FULL_STREE'],b['ST_LABEL'],b['BOROCODE'],b['PHYSICALID']) )\n",
    "#v.show()"
   ]
  },
  {
   "cell_type": "code",
   "execution_count": null,
   "metadata": {},
   "outputs": [],
   "source": [
    "#b.select('2015').distinct().show()"
   ]
  },
  {
   "cell_type": "code",
   "execution_count": 18,
   "metadata": {},
   "outputs": [],
   "source": [
    "v= v.groupBy(\"Year\",\"PHYSICALID\").count()"
   ]
  },
  {
   "cell_type": "code",
   "execution_count": null,
   "metadata": {},
   "outputs": [],
   "source": [
    "# g = a.map(lambda x: mapper(x)) \n",
    "# print(type(a))\n",
    "# g.collect()\n",
    "v.show(10)"
   ]
  },
  {
   "cell_type": "code",
   "execution_count": null,
   "metadata": {},
   "outputs": [],
   "source": [
    "# def mapper(row):\n",
    "#     if((row[0] != None)&(row[1] != None)&(row[2] != None)&(row[3] != None)):\n",
    "#         if (row[0] == 'K' )|(row[0] == 'KINGS' )|(row[0] == 'KING' )|(row[0] == 'BK' ):\n",
    "#             if ((row[1] != None) & ((row[3] == '2015') | (row[3] == '2016') | (row[3] == '2017') | (row[3] == '2018') | (row[3] == '2019'))):\n",
    "#                 if row[1].isdigit():\n",
    "#                     #f = row[1]\n",
    "#                    # if int(f)%2 == 0:\n",
    "#                         return row\n",
    "#                        # b = b.withColumn(row[3], funct.when((b['BOROCODE'] == 3) & ((b['FULL_STREE']==row[2]) | \n",
    "#                         #(b['ST_LABEL'] == row[2])) & ((b['R_HIGH_HN'] <= row[1]) & (b['R_LOW_HN'] >= row[1])), funct.col(row[3])+funct.lit(1)))\n",
    "#                         b = b.withColumn(row[3], funct.when((b['BOROCODE'] == 3) & ((b['FULL_STREE']==row[2]) | (b['ST_LABEL'] == row[2])) , funct.col(row[3])+funct.lit(1)))\n",
    "\n",
    "\n",
    "                       # b.filter(b['BOROCODE'] == 3).filter((b['FULL_STREE']==row[2]) | (b['ST_LABEL'] == row[2])).filter((b['R_HIGH_HN'] <= row[1]) & (b['R_LOW_HN'] >= row[1])).withColumn(row[3],funct.col(row[3])+funct.lit(1))\n",
    "                   # else:\n",
    "                   #     return row\n",
    "                       # b = b.withColumn(row[3], funct.when((b['BOROCODE'] == 3) & ((b['FULL_STREE']==row[2]) | (b['ST_LABEL'] == row[2])) & ((b['L_HIGH_HN'] <= row[1]) & (b['L_LOW_HN'] >= row[1])), funct.col(row[3])+funct.lit(1)))\n",
    "\n",
    "#         if (row[0] == 'Q')|(row[0] == 'QU')|(row[0] == 'QNS')|(row[0] == 'QN')|(row[0] == 'QUEEN'):\n",
    "#             if ((row[1] != None) & ((row[3] == '2015') | (row[3] == '2016') | (row[3] == '2017') | (row[3] == '2018') | (row[3] == '2019'))):\n",
    "#                 if row[1].isdigit():\n",
    "#                     if int(row[1])%2 == 0:\n",
    "#                         return row\n",
    "#                         b = b.withColumn(row[3], funct.when((b['BOROCODE'] == 4) & ((b['FULL_STREE']==row[2]) | \n",
    "#                         (b['ST_LABEL'] == row[2])) & ((b['R_HIGH_HN'] <= row[1]) & (b['R_LOW_HN'] >= row[1])), funct.col(row[3])+funct.lit(1)))\n",
    "\n",
    "#                        # b.filter(b['BOROCODE'] == 3).filter((b['FULL_STREE']==row[2]) | (b['ST_LABEL'] == row[2])).filter((b['R_HIGH_HN'] <= row[1]) & (b['R_LOW_HN'] >= row[1])).withColumn(row[3],funct.col(row[3])+funct.lit(1))\n",
    "#                     else:\n",
    "#                         return row\n",
    "#                         b = b.withColumn(row[3], funct.when((b['BOROCODE'] == 4) & ((b['FULL_STREE']==row[2]) | (b['ST_LABEL'] == row[2])) & ((b['L_HIGH_HN'] <= row[1]) & (b['L_LOW_HN'] >= row[1])), funct.col(row[3])+funct.lit(1)))\n",
    "\n",
    "\n",
    "#         if (row[0] == 'R')|(row[0] == 'RICHMOND'):\n",
    "#             if ((row[1] != None) & ((row[3] == '2015') | (row[3] == '2016') | (row[3] == '2017') | (row[3] == '2018') | (row[3] == '2019'))):\n",
    "#                 if row[1].isdigit():\n",
    "#                     f = row[1]\n",
    "#                     if int(f)%2 == 0:\n",
    "#                         return row\n",
    "#                         b = b.withColumn(row[3], funct.when((b['BOROCODE'] == 5) & ((b['FULL_STREE']==row[2]) | \n",
    "#                         (b['ST_LABEL'] == row[2])) & ((b['R_HIGH_HN'] <= row[1]) & (b['R_LOW_HN'] >= row[1])), funct.col(row[3])+funct.lit(1)))\n",
    "\n",
    "#                        # b.filter(b['BOROCODE'] == 3).filter((b['FULL_STREE']==row[2]) | (b['ST_LABEL'] == row[2])).filter((b['R_HIGH_HN'] <= row[1]) & (b['R_LOW_HN'] >= row[1])).withColumn(row[3],funct.col(row[3])+funct.lit(1))\n",
    "#                     else:\n",
    "#                         return row\n",
    "#                         b = b.withColumn(row[3], funct.when((b['BOROCODE'] == 5) & ((b['FULL_STREE']==row[2]) | (b['ST_LABEL'] == row[2])) & ((b['L_HIGH_HN'] <= row[1]) & (b['L_LOW_HN'] >= row[1])), funct.col(row[3])+funct.lit(1)))\n",
    "\n",
    "#         if (row[0] == 'NY')|(row[0] == 'NEW Y')|(row[0] == 'NEWY')|(row[0] == 'NY')|(row[0] == 'MN')|(row[0] == 'MH')|(row[0] == 'MAN'):\n",
    "#             if ((row[1] != None) & ((row[3] == '2015') | (row[3] == '2016') | (row[3] == '2017') | (row[3] == '2018') | (row[3] == '2019'))):\n",
    "#                 if row[1].isdigit():\n",
    "#                     if int(row[1])%2 == 0:\n",
    "#                         return row\n",
    "#                         b = b.withColumn(row[3], funct.when((b['BOROCODE'] == 1) & ((b['FULL_STREE']==row[2]) | \n",
    "#                         (b['ST_LABEL'] == row[2])) & ((b['R_HIGH_HN'] <= row[1]) & (b['R_LOW_HN'] >= row[1])), funct.col(row[3])+funct.lit(1)))\n",
    "\n",
    "#                        # b.filter(b['BOROCODE'] == 3).filter((b['FULL_STREE']==row[2]) | (b['ST_LABEL'] == row[2])).filter((b['R_HIGH_HN'] <= row[1]) & (b['R_LOW_HN'] >= row[1])).withColumn(row[3],funct.col(row[3])+funct.lit(1))\n",
    "#                     else:\n",
    "#                         return row\n",
    "#                         b = b.withColumn(row[3], funct.when((b['BOROCODE'] == 1) & ((b['FULL_STREE']==row[2]) | (b['ST_LABEL'] == row[2])) & ((b['L_HIGH_HN'] <= row[1]) & (b['L_LOW_HN'] >= row[1])), funct.col(row[3])+funct.lit(1)))\n",
    "\n",
    "\n",
    "#         if (row[0] == 'BX')|(row[0] == 'BRONX'):\n",
    "#             if ((row[1] != None) & ((row[3] == '2015') | (row[3] == '2016') | (row[3] == '2017') | (row[3] == '2018') | (row[3] == '2019'))):\n",
    "#                 if row[1].isdigit():\n",
    "#                     if int(row[1])%2 == 0:\n",
    "#                         return row\n",
    "#                         b = b.withColumn(row[3], funct.when((b['BOROCODE'] == 2) & ((b['FULL_STREE']==row[2]) | \n",
    "#                         (b['ST_LABEL'] == row[2])) & ((b['R_HIGH_HN'] <= row[1]) & (b['R_LOW_HN'] >= row[1])), funct.col(row[3])+funct.lit(1)))\n",
    "\n",
    "#                        # b.filter(b['BOROCODE'] == 3).filter((b['FULL_STREE']==row[2]) | (b['ST_LABEL'] == row[2])).filter((b['R_HIGH_HN'] <= row[1]) & (b['R_LOW_HN'] >= row[1])).withColumn(row[3],funct.col(row[3])+funct.lit(1))\n",
    "#                     else:\n",
    "#                         return row\n",
    "#                         b = b.withColumn(row[3], funct.when((b['BOROCODE'] == 2) & ((b['FULL_STREE']==row[2]) | (b['ST_LABEL'] == row[2])) & ((b['L_HIGH_HN'] <= row[1]) & (b['L_LOW_HN'] >= row[1])), funct.col(row[3])+funct.lit(1)))\n",
    "   # return 0\n",
    "        \n",
    "\n"
   ]
  }
 ],
 "metadata": {
  "kernelspec": {
   "display_name": "Python 3",
   "language": "python",
   "name": "python3"
  },
  "language_info": {
   "codemirror_mode": {
    "name": "ipython",
    "version": 3
   },
   "file_extension": ".py",
   "mimetype": "text/x-python",
   "name": "python",
   "nbconvert_exporter": "python",
   "pygments_lexer": "ipython3",
   "version": "3.7.4"
  }
 },
 "nbformat": 4,
 "nbformat_minor": 2
}
